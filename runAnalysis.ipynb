{
 "cells": [
  {
   "cell_type": "code",
   "execution_count": null,
   "id": "1d305e08-c404-49d6-8ee5-d9f25fec2cae",
   "metadata": {},
   "outputs": [],
   "source": [
    "%run filterTrailList.ipynb\n",
    "%run scrapeAllTrails.ipynb\n",
    "%run scrapeColorado14ers.ipynb\n",
    "%run match14ers.ipynb\n",
    "%run filter14ersbyClass.ipynb"
   ]
  },
  {
   "cell_type": "code",
   "execution_count": null,
   "id": "9e157546-2674-4f1d-8619-432234ec3092",
   "metadata": {},
   "outputs": [],
   "source": [
    "address = '333 E Colorado Ave, Colorado Springs, CO 80903'\n",
    "hike_day = 'Saturday'\n",
    "trail_list = 'all14ers' # options: short_list, all14ers, top14ers, allCO\n",
    "\n",
    "distance_max = 15.0    # max length of hike (miles)\n",
    "distance_min = 0.0     # min length of hike (miles)\n",
    "drive_lim = 3.0      # max driving time (hours)\n",
    "feature_requests = 'wild-flowers' and 'lake'  #options: dogs, lake, views, no-shade, fee, scramble, waterfall, wild-flowers, forest, river, snow, partially-paved, wildlife\n",
    "check_weather = True     # check for <50% rain, clouds\n",
    "dow = hikes_day        # planned hike day (must be < 6 days in advance), change to Saturday/Sunday to check weather\n",
    "class_limit = 2.5  # if using 14er data\n",
    "\n",
    "full_df = allTrailsAny(address, trail_list, hike_day)\n",
    "# full__df.to_csv('TrailData_'+ trail_list + str(date.today())+'.csv')\n",
    "\n",
    "full_df_in= full_df[:][:]\n",
    "\n",
    "\n",
    "filtered_hikes_df = filterHikes(full_df_in[:][:],distance_max,distance_min,drive_lim,feature_requests,check_weather,dow)\n",
    "\n",
    "# filtered_hikes_df\n",
    "# filtered_hikes_df.to_csv('filtered_hikes_'+str(date.today())+'.csv')\n",
    "\n",
    "if trail_list == 'all14ers' or 'top14ers':\n",
    "\n",
    "    all14erData = get14erData()\n",
    "    \n",
    "    co_14_df = all14erData[:][:]\n",
    "    at_df = filtered_hikes_df[:][:]\n",
    "    \n",
    "    merged_14er_data = get14erMatches(at_df,co_14_df)\n",
    "\n",
    "    filtered_14er_df = filter14ers(merged_14er_data,class_limit)\n",
    "\n",
    "    filtered_14er_df.to_csv('filtered_14ers_'+str(date.today())+'.csv')\n",
    "else:\n",
    "    filtered_hikes_df.to_csv('filtered_hikes_'+str(date.today())+'.csv')\n",
    "\n",
    "# merged_14er_data.to_csv('merged_14er_data.csv')"
   ]
  },
  {
   "cell_type": "code",
   "execution_count": null,
   "id": "538c34bc-6a7d-4e50-8bd0-1db2bf702228",
   "metadata": {},
   "outputs": [],
   "source": [
    "# search for individual hike:\n",
    "\n",
    "search_term = 'Sky'\n",
    "\n",
    "backup = full_df[:][:]\n",
    "backup[backup.name.str.contains(search_term)]\n"
   ]
  },
  {
   "cell_type": "code",
   "execution_count": null,
   "id": "240e33a5-d97c-493b-9577-0c5c48da2479",
   "metadata": {},
   "outputs": [],
   "source": []
  }
 ],
 "metadata": {
  "kernelspec": {
   "display_name": "Python 3 (ipykernel)",
   "language": "python",
   "name": "python3"
  },
  "language_info": {
   "codemirror_mode": {
    "name": "ipython",
    "version": 3
   },
   "file_extension": ".py",
   "mimetype": "text/x-python",
   "name": "python",
   "nbconvert_exporter": "python",
   "pygments_lexer": "ipython3",
   "version": "3.10.5"
  }
 },
 "nbformat": 4,
 "nbformat_minor": 5
}
