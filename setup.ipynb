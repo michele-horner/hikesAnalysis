{
 "cells": [
  {
   "cell_type": "code",
   "execution_count": null,
   "id": "ad6d20d6-d0b3-4bc4-9d0e-188d35046cb7",
   "metadata": {},
   "outputs": [],
   "source": [
    "! pip install undetected-chromedriver\n",
    "! pip install json\n",
    "! pip install haralyzer\n",
    "! pip install pandas\n",
    "! pip install requests\n",
    "! pip install selenium \n",
    "! pip install time\n",
    "! pip install bs4 \n",
    "! pip install lxml\n",
    "! pip install datetime\n",
    "! pip install calendar\n",
    "! pip install numpy \n",
    "! pip install IPython\n",
    "! pip install ipywidgets \n",
    "! pip install python-Levenshtein\n",
    "! pip install fuzzywuzzy \n",
    "! pip install jupyterlab_widgets"
   ]
  }
 ],
 "metadata": {
  "kernelspec": {
   "display_name": "Python 3 (ipykernel)",
   "language": "python",
   "name": "python3"
  },
  "language_info": {
   "codemirror_mode": {
    "name": "ipython",
    "version": 3
   },
   "file_extension": ".py",
   "mimetype": "text/x-python",
   "name": "python",
   "nbconvert_exporter": "python",
   "pygments_lexer": "ipython3",
   "version": "3.10.5"
  }
 },
 "nbformat": 4,
 "nbformat_minor": 5
}
