{
 "cells": [
  {
   "cell_type": "code",
   "execution_count": 146,
   "id": "01512fdf-403e-47b9-99a0-23f746fad647",
   "metadata": {},
   "outputs": [
    {
     "data": {
      "application/vnd.jupyter.widget-view+json": {
       "model_id": "72a2bebc647d477eb50cc1d0fe56d841",
       "version_major": 2,
       "version_minor": 0
      },
      "text/plain": [
       "Text(value='333 E Colorado Ave', description='Street Address:', placeholder='Type something', style=Descriptio…"
      ]
     },
     "metadata": {},
     "output_type": "display_data"
    },
    {
     "data": {
      "application/vnd.jupyter.widget-view+json": {
       "model_id": "ce264cd1d93a4d8c97e0c526658d6d1f",
       "version_major": 2,
       "version_minor": 0
      },
      "text/plain": [
       "Text(value='Colorado Springs', description='City:', placeholder='Type something')"
      ]
     },
     "metadata": {},
     "output_type": "display_data"
    },
    {
     "data": {
      "application/vnd.jupyter.widget-view+json": {
       "model_id": "d95a2b2c89b6445bbec35d51c76d6743",
       "version_major": 2,
       "version_minor": 0
      },
      "text/plain": [
       "Text(value='CO', description='State:', placeholder='Type something')"
      ]
     },
     "metadata": {},
     "output_type": "display_data"
    },
    {
     "data": {
      "application/vnd.jupyter.widget-view+json": {
       "model_id": "fc8dab18dd524c3b9fe31de3e9cc7f02",
       "version_major": 2,
       "version_minor": 0
      },
      "text/plain": [
       "Text(value='80903', description='Zip Code:', placeholder='Type something')"
      ]
     },
     "metadata": {},
     "output_type": "display_data"
    },
    {
     "data": {
      "application/vnd.jupyter.widget-view+json": {
       "model_id": "8410c82c6672467d9a7a2c644886a52c",
       "version_major": 2,
       "version_minor": 0
      },
      "text/plain": [
       "FloatRangeSlider(value=(7.5, 22.5), description='Hiking Distance (miles):', layout=Layout(height='20px', width…"
      ]
     },
     "metadata": {},
     "output_type": "display_data"
    },
    {
     "data": {
      "application/vnd.jupyter.widget-view+json": {
       "model_id": "e4e04f8e5f2a4b26ab9711771497202e",
       "version_major": 2,
       "version_minor": 0
      },
      "text/plain": [
       "FloatSlider(value=3.0, description='Driving Distance (hours):', layout=Layout(height='20px', width='400px'), m…"
      ]
     },
     "metadata": {},
     "output_type": "display_data"
    },
    {
     "data": {
      "application/vnd.jupyter.widget-view+json": {
       "model_id": "495f3d5d47dd4af2bb957998a13bdfb3",
       "version_major": 2,
       "version_minor": 0
      },
      "text/plain": [
       "FloatSlider(value=2.0, description='Class Limit (for 14ers only):', layout=Layout(height='20px', width='400px'…"
      ]
     },
     "metadata": {},
     "output_type": "display_data"
    },
    {
     "data": {
      "application/vnd.jupyter.widget-view+json": {
       "model_id": "7baf8f6f344346f0ace7bb81b744c2f0",
       "version_major": 2,
       "version_minor": 0
      },
      "text/plain": [
       "RadioButtons(description='Feature #1:', index=1, options=('Lake', 'Wildflowers', 'River', 'Views', 'Dogs allow…"
      ]
     },
     "metadata": {},
     "output_type": "display_data"
    },
    {
     "data": {
      "application/vnd.jupyter.widget-view+json": {
       "model_id": "cc88df118d174336892df74bff1536ef",
       "version_major": 2,
       "version_minor": 0
      },
      "text/plain": [
       "RadioButtons(description='Feature #2:', options=('Lake', 'Wildflowers', 'River', 'Views', 'Dogs allowed', 'Scr…"
      ]
     },
     "metadata": {},
     "output_type": "display_data"
    },
    {
     "data": {
      "application/vnd.jupyter.widget-view+json": {
       "model_id": "d0af4393c9eb4b12b79462b2b1326f17",
       "version_major": 2,
       "version_minor": 0
      },
      "text/plain": [
       "Dropdown(description='Hiking Day:', options=('Sunday', 'Monday', 'Tuesday', 'Wednesday', 'Thursday', 'Friday',…"
      ]
     },
     "metadata": {},
     "output_type": "display_data"
    },
    {
     "data": {
      "application/vnd.jupyter.widget-view+json": {
       "model_id": "b7bece02136d4b7bacce7b723df07a06",
       "version_major": 2,
       "version_minor": 0
      },
      "text/plain": [
       "Dropdown(description='Trail List:', options=('All Colorado', 'Colorado short list', 'All 14ers', 'Top 14ers'),…"
      ]
     },
     "metadata": {},
     "output_type": "display_data"
    },
    {
     "data": {
      "application/vnd.jupyter.widget-view+json": {
       "model_id": "5de6cc6fd7b1464b8b62ae6df858f8d2",
       "version_major": 2,
       "version_minor": 0
      },
      "text/plain": [
       "Button(description='Done', icon='check', style=ButtonStyle(), tooltip='Click me')"
      ]
     },
     "metadata": {},
     "output_type": "display_data"
    },
    {
     "data": {
      "application/vnd.jupyter.widget-view+json": {
       "model_id": "9eb0fc1c693d4b958647d00a7c091cff",
       "version_major": 2,
       "version_minor": 0
      },
      "text/plain": [
       "Output()"
      ]
     },
     "metadata": {},
     "output_type": "display_data"
    }
   ],
   "source": [
    "from IPython.display import display\n",
    "from ipywidgets import widgets, interactive\n",
    "%run filterTrailList.ipynb\n",
    "%run scrapeAllTrails.ipynb\n",
    "%run scrapeColorado14ers.ipynb\n",
    "%run match14ers.ipynb\n",
    "%run filter14ersbyClass.ipynb\n",
    "\n",
    "layout = widgets.Layout(width='400px', height='20px')\n",
    "\n",
    "street = widgets.Text(\n",
    "    value='333 E Colorado Ave',\n",
    "    placeholder='Type something',\n",
    "    description='Street Address:',\n",
    "    disabled=False,\n",
    "    style= {'description_width': 'initial'},\n",
    ")\n",
    "city = widgets.Text(\n",
    "    value='Colorado Springs',\n",
    "    placeholder='Type something',\n",
    "    description='City:',\n",
    "    disabled=False\n",
    ")\n",
    "state = widgets.Text(\n",
    "    value='CO',\n",
    "    placeholder='Type something',\n",
    "    description='State:',\n",
    "    disabled=False\n",
    ")\n",
    "zip_code = widgets.Text(\n",
    "    value='80903',\n",
    "    placeholder='Type something',\n",
    "    description='Zip Code:',\n",
    "    disabled=False\n",
    ")\n",
    "display(street)\n",
    "display(city)\n",
    "display(state)\n",
    "display(zip_code)\n",
    "\n",
    "\n",
    "\n",
    "slider1 = widgets.FloatRangeSlider(\n",
    "    min=0,\n",
    "    max=30,\n",
    "    step= 0.25,\n",
    "    display='flex',\n",
    "    description='Hiking Distance (miles):',\n",
    "    style= {'description_width': 'initial'},\n",
    "    layout = layout\n",
    ")\n",
    "display(slider1)\n",
    "\n",
    "slider2 = widgets.FloatSlider(\n",
    "    min=0,\n",
    "    max=7,\n",
    "    step= 0.25,\n",
    "    description='Driving Distance (hours):',\n",
    "    style= {'description_width': 'initial'},\n",
    "    layout = layout,\n",
    "    value = 3.0\n",
    ")\n",
    "display(slider2)\n",
    "slider3 = widgets.FloatSlider(\n",
    "    min=1,\n",
    "    max=4,\n",
    "    step= .5,\n",
    "    description='Class Limit (for 14ers only):',\n",
    "    style= {'description_width': 'initial'},\n",
    "    layout = layout,\n",
    "    value = 2\n",
    ")\n",
    "display(slider3)\n",
    "\n",
    "feature1 = widgets.RadioButtons(\n",
    "    options=['Lake','Wildflowers', 'River','Views','Dogs allowed', 'Scramble','Waterfall', 'Forest', 'Wildlife'],\n",
    "    value='Wildflowers',\n",
    "    description='Feature #1:',\n",
    ")\n",
    "\n",
    "feature2 = widgets.RadioButtons(\n",
    "    options=['Lake','Wildflowers', 'River','Views','Dogs allowed', 'Scramble','Waterfall', 'Forest', 'Wildlife'],\n",
    "    value='Lake',\n",
    "    description='Feature #2:',\n",
    ")\n",
    "display(feature1)\n",
    "display(feature2)\n",
    "\n",
    "dow = widgets.Dropdown(\n",
    "    options=['Sunday','Monday','Tuesday','Wednesday','Thursday','Friday','Saturday'],\n",
    "    value='Sunday',\n",
    "    description='Hiking Day:',\n",
    ")\n",
    "display(dow)\n",
    "\n",
    "hike_list = widgets.Dropdown(\n",
    "    options=['All Colorado','Colorado short list','All 14ers','Top 14ers'],\n",
    "    value='All Colorado',\n",
    "    description='Trail List:',\n",
    ")\n",
    "display(hike_list)\n",
    "\n",
    "\n",
    "feature_dict = {'Lake':'lake','Wildflowers':'wild-flowers', 'River':'river','Views':'views','Dogs allowed':'dogs', 'Scramble':'scramble','Waterfall':'waterfall', 'Forest':'forest', 'Wildlife':'wildlife'}\n",
    "\n",
    "feature_requests = [feature_dict[feature1.value], feature_dict[feature2.value]]\n",
    "\n",
    "address = street.value + ' '+ city.value + ', '+state.value +' '+ zip_code.value\n",
    "\n",
    "hike_day = dow.value\n",
    "\n",
    "distance_max = slider1.value[1]\n",
    "distance_min = slider1.value[0]\n",
    "\n",
    "drive_lim = slider2.value\n",
    "class_limit = slider3.value\n",
    "\n",
    "trail_list = hike_list.value\n",
    "\n",
    "check_weather = True\n",
    "\n",
    "output = widgets.Output()\n",
    "done = widgets.Button(\n",
    "    description='Done',\n",
    "    disabled=False,\n",
    "    button_style='', # 'success', 'info', 'warning', 'danger' or ''\n",
    "    tooltip='Click me',\n",
    "    icon='check'\n",
    ")\n",
    "output = widgets.Output()\n",
    "display(done, output)\n",
    "def on_button_clicked(b):\n",
    "    with output:\n",
    "        full_df = allTrailsAny(address, trail_list, hike_day)\n",
    "\n",
    "        full_df_in= full_df[:][:]\n",
    "\n",
    "\n",
    "        filtered_hikes_df = filterHikes(full_df_in[:][:],distance_max,distance_min,drive_lim,feature_requests,check_weather,dow)\n",
    "\n",
    "\n",
    "        if trail_list == 'Top 14ers' or  trail_list == 'All 14ers':\n",
    "\n",
    "            all14erData = get14erData()\n",
    "\n",
    "            co_14_df = all14erData[:][:]\n",
    "            at_df = filtered_hikes_df[:][:]\n",
    "\n",
    "            merged_14er_data = get14erMatches(at_df,co_14_df)\n",
    "\n",
    "            filtered_14er_df = filter14ers(merged_14er_data,class_limit)\n",
    "\n",
    "            filtered_14er_df.to_csv('filtered_14ers_'+str(date.today())+'.csv')\n",
    "        else:\n",
    "            \n",
    "            filtered_hikes_df.to_csv('filtered_hikes_'+str(date.today())+'.csv')\n",
    "\n",
    "        \n",
    "done.on_click(on_button_clicked)"
   ]
  },
  {
   "cell_type": "code",
   "execution_count": null,
   "id": "d06b36e8-2e66-445c-b0bb-d67a56973993",
   "metadata": {},
   "outputs": [],
   "source": []
  }
 ],
 "metadata": {
  "kernelspec": {
   "display_name": "Python 3 (ipykernel)",
   "language": "python",
   "name": "python3"
  },
  "language_info": {
   "codemirror_mode": {
    "name": "ipython",
    "version": 3
   },
   "file_extension": ".py",
   "mimetype": "text/x-python",
   "name": "python",
   "nbconvert_exporter": "python",
   "pygments_lexer": "ipython3",
   "version": "3.10.5"
  }
 },
 "nbformat": 4,
 "nbformat_minor": 5
}
