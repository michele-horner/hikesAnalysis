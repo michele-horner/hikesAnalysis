{
 "cells": [
  {
   "cell_type": "code",
   "execution_count": 3,
   "id": "01512fdf-403e-47b9-99a0-23f746fad647",
   "metadata": {},
   "outputs": [
    {
     "data": {
      "application/vnd.jupyter.widget-view+json": {
       "model_id": "bc007b78a2324a72a6a9db0e3cdc37cc",
       "version_major": 2,
       "version_minor": 0
      },
      "text/plain": [
       "Text(value='333 E Colorado Ave', description='Street Address:', placeholder='Type something', style=Descriptio…"
      ]
     },
     "metadata": {},
     "output_type": "display_data"
    },
    {
     "data": {
      "application/vnd.jupyter.widget-view+json": {
       "model_id": "4146d99a8d064ed1b5ae5ad79d82b087",
       "version_major": 2,
       "version_minor": 0
      },
      "text/plain": [
       "Text(value='Colorado Springs', description='City:', placeholder='Type something')"
      ]
     },
     "metadata": {},
     "output_type": "display_data"
    },
    {
     "data": {
      "application/vnd.jupyter.widget-view+json": {
       "model_id": "450cf2a96e00451b82641b103160dc19",
       "version_major": 2,
       "version_minor": 0
      },
      "text/plain": [
       "Text(value='CO', description='State:', placeholder='Type something')"
      ]
     },
     "metadata": {},
     "output_type": "display_data"
    },
    {
     "data": {
      "application/vnd.jupyter.widget-view+json": {
       "model_id": "5ac6aa6bee3041c1bb8dbbe212695027",
       "version_major": 2,
       "version_minor": 0
      },
      "text/plain": [
       "Text(value='80903', description='Zip Code:', placeholder='Type something')"
      ]
     },
     "metadata": {},
     "output_type": "display_data"
    },
    {
     "data": {
      "application/vnd.jupyter.widget-view+json": {
       "model_id": "8c5d79ef2ece48f1a3ef454c313ba6ca",
       "version_major": 2,
       "version_minor": 0
      },
      "text/plain": [
       "FloatRangeSlider(value=(2.0, 15.0), description='Hiking Distance (miles):', layout=Layout(height='20px', width…"
      ]
     },
     "metadata": {},
     "output_type": "display_data"
    },
    {
     "data": {
      "application/vnd.jupyter.widget-view+json": {
       "model_id": "246a072f37a648a5bc0784d0d43aaae2",
       "version_major": 2,
       "version_minor": 0
      },
      "text/plain": [
       "FloatSlider(value=3.0, description='Driving Distance (hours):', layout=Layout(height='20px', width='400px'), m…"
      ]
     },
     "metadata": {},
     "output_type": "display_data"
    },
    {
     "data": {
      "application/vnd.jupyter.widget-view+json": {
       "model_id": "d42bbd8274ce4e46880d3f2e0b4aea81",
       "version_major": 2,
       "version_minor": 0
      },
      "text/plain": [
       "FloatSlider(value=2.0, description='Class Limit (for 14ers only):', layout=Layout(height='20px', width='400px'…"
      ]
     },
     "metadata": {},
     "output_type": "display_data"
    },
    {
     "data": {
      "application/vnd.jupyter.widget-view+json": {
       "model_id": "7df8aaa62eb842e7a97d1d9ada66e456",
       "version_major": 2,
       "version_minor": 0
      },
      "text/plain": [
       "RadioButtons(description='Feature #1:', index=1, options=('Lake', 'Wildflowers', 'River', 'Views', 'Dogs allow…"
      ]
     },
     "metadata": {},
     "output_type": "display_data"
    },
    {
     "data": {
      "application/vnd.jupyter.widget-view+json": {
       "model_id": "e4b10003bbbf4350babd188c2cce1c0c",
       "version_major": 2,
       "version_minor": 0
      },
      "text/plain": [
       "RadioButtons(description='Feature #2:', options=('Lake', 'Wildflowers', 'River', 'Views', 'Dogs allowed', 'Scr…"
      ]
     },
     "metadata": {},
     "output_type": "display_data"
    },
    {
     "data": {
      "application/vnd.jupyter.widget-view+json": {
       "model_id": "a7280efaa57440adb5accd0f9860d00a",
       "version_major": 2,
       "version_minor": 0
      },
      "text/plain": [
       "RadioButtons(description='Exclude Trails With:', index=5, options=('Snow', 'No Shade', 'Scramble', 'Fee', 'For…"
      ]
     },
     "metadata": {},
     "output_type": "display_data"
    },
    {
     "data": {
      "application/vnd.jupyter.widget-view+json": {
       "model_id": "bd0a02774d3c4c778bced343cc34cdba",
       "version_major": 2,
       "version_minor": 0
      },
      "text/plain": [
       "Dropdown(description='Hike Day:', options=('Wednesday', 'Thursday', 'Friday', 'Saturday', 'Sunday', 'Monday'),…"
      ]
     },
     "metadata": {},
     "output_type": "display_data"
    },
    {
     "data": {
      "application/vnd.jupyter.widget-view+json": {
       "model_id": "d4cd8f4e946c443eb9e4ddc3e9c6b603",
       "version_major": 2,
       "version_minor": 0
      },
      "text/plain": [
       "Dropdown(description='Trail List:', index=1, options=('All Colorado', 'Colorado short list', 'All 14ers', 'Top…"
      ]
     },
     "metadata": {},
     "output_type": "display_data"
    },
    {
     "data": {
      "application/vnd.jupyter.widget-view+json": {
       "model_id": "25c6a58302e74e828e7502fc840af41d",
       "version_major": 2,
       "version_minor": 0
      },
      "text/plain": [
       "RadioButtons(description='Check for Weather:', options=('Yes', 'No'), style=DescriptionStyle(description_width…"
      ]
     },
     "metadata": {},
     "output_type": "display_data"
    },
    {
     "data": {
      "application/vnd.jupyter.widget-view+json": {
       "model_id": "6215c84a5a664e9bb468931322edf9df",
       "version_major": 2,
       "version_minor": 0
      },
      "text/plain": [
       "Button(description='Done', icon='check', style=ButtonStyle(), tooltip='Click me')"
      ]
     },
     "metadata": {},
     "output_type": "display_data"
    },
    {
     "data": {
      "application/vnd.jupyter.widget-view+json": {
       "model_id": "a59a6d5ee4b1460eb3cb46cbe6fee0b5",
       "version_major": 2,
       "version_minor": 0
      },
      "text/plain": [
       "Output()"
      ]
     },
     "metadata": {},
     "output_type": "display_data"
    }
   ],
   "source": [
    "from IPython.display import display\n",
    "from ipywidgets import widgets, interactive\n",
    "\n",
    "\n",
    "%run filterTrailList.ipynb\n",
    "%run scrapeAllTrails.ipynb\n",
    "# %run scrapeColorado14ers.ipynb\n",
    "%run match14ers.ipynb\n",
    "%run filter14ersbyClass.ipynb\n",
    "%run getCO14ers.ipynb\n",
    "\n",
    "\n",
    "layout = widgets.Layout(width='400px', height='20px')\n",
    "\n",
    "street = widgets.Text(\n",
    "    value='333 E Colorado Ave',\n",
    "    placeholder='Type something',\n",
    "    description='Street Address:',\n",
    "    disabled=False,\n",
    "    style= {'description_width': 'initial'},\n",
    ")\n",
    "city = widgets.Text(\n",
    "    value='Colorado Springs',\n",
    "    placeholder='Type something',\n",
    "    description='City:',\n",
    "    disabled=False\n",
    ")\n",
    "state = widgets.Text(\n",
    "    value='CO',\n",
    "    placeholder='Type something',\n",
    "    description='State:',\n",
    "    disabled=False\n",
    ")\n",
    "zip_code = widgets.Text(\n",
    "    value='80903',\n",
    "    placeholder='Type something',\n",
    "    description='Zip Code:',\n",
    "    disabled=False\n",
    ")\n",
    "display(street)\n",
    "display(city)\n",
    "display(state)\n",
    "display(zip_code)\n",
    "\n",
    "\n",
    "\n",
    "slider1 = widgets.FloatRangeSlider(\n",
    "    min=0,\n",
    "    max=30,\n",
    "    step= 0.25,\n",
    "    display='flex',\n",
    "    description='Hiking Distance (miles):',\n",
    "    style= {'description_width': 'initial'},\n",
    "    layout = layout,\n",
    "    value = [2, 15]\n",
    ")\n",
    "display(slider1)\n",
    "\n",
    "slider2 = widgets.FloatSlider(\n",
    "    min=0,\n",
    "    max=7,\n",
    "    step= 0.25,\n",
    "    description='Driving Distance (hours):',\n",
    "    style= {'description_width': 'initial'},\n",
    "    layout = layout,\n",
    "    value = 3.0\n",
    ")\n",
    "display(slider2)\n",
    "slider3 = widgets.FloatSlider(\n",
    "    min=1,\n",
    "    max=4,\n",
    "    step= .5,\n",
    "    description='Class Limit (for 14ers only):',\n",
    "    style= {'description_width': 'initial'},\n",
    "    layout = layout,\n",
    "    value = 2\n",
    ")\n",
    "display(slider3)\n",
    "\n",
    "feature1 = widgets.RadioButtons(\n",
    "    options=['Lake','Wildflowers', 'River','Views','Dogs allowed', 'Scramble','Waterfall', 'Forest', 'Wildlife','Trail Running'],\n",
    "    value='Wildflowers',\n",
    "    description='Feature #1:',\n",
    ")\n",
    "\n",
    "feature2 = widgets.RadioButtons(\n",
    "    options=['Lake','Wildflowers', 'River','Views','Dogs allowed', 'Scramble','Waterfall', 'Forest', 'Wildlife','Trail Running'],\n",
    "    value='Lake',\n",
    "    description='Feature #2:',\n",
    ")\n",
    "feature_e = widgets.RadioButtons(\n",
    "    options=['Snow','No Shade','Scramble','Fee','Forest','None'],\n",
    "    value='None',\n",
    "    description='Exclude Trails With:',\n",
    "    style= {'description_width': 'initial'}\n",
    ")\n",
    "display(feature1)\n",
    "display(feature2)\n",
    "display(feature_e)\n",
    "\n",
    "curr_date = date.today()\n",
    "today = str(calendar.day_name[curr_date.weekday()])\n",
    "doys = {'Sunday': 0, 'Monday': 1, 'Tuesday': 2, 'Wednesday': 3, 'Thursday': 4, 'Friday': 5, 'Saturday': 6}\n",
    "seq = [0,1,2,3,4,5,6,0,-1,-2,-3,-4,-5,-6]\n",
    "sel = seq[doys[today]:doys[today]+6]\n",
    "res =  [abs(ele) for ele in sel]\n",
    "doy_names = list(doys)\n",
    "name_opts = [doy_names[i] for i in res]\n",
    "\n",
    "weekday = widgets.Dropdown(\n",
    "    options=name_opts,\n",
    "    description='Hike Day:',\n",
    ")\n",
    "display(weekday)\n",
    "\n",
    "hike_list = widgets.Dropdown(\n",
    "    options=['All Colorado','Colorado short list','All 14ers','Top 14ers'],\n",
    "    value='Colorado short list',\n",
    "    description='Trail List:',\n",
    ")\n",
    "display(hike_list)\n",
    "\n",
    "weather_check = widgets.RadioButtons(\n",
    "    options=['Yes','No'],\n",
    "    value='Yes',\n",
    "    description='Check for Weather:',\n",
    "    style= {'description_width': 'initial'}\n",
    ")\n",
    "display(weather_check)\n",
    "\n",
    "\n",
    "feature_dict = {'Lake':'lake','Wildflowers':'wild-flowers', 'River':'river','Views':'views',\\\n",
    "                'Dogs allowed':'dogs','Scramble':'scramble','Waterfall':'waterfall', 'Forest':'forest', \\\n",
    "                'Wildlife':'wildlife','Trail Running':'running'}\n",
    "excluded_dict = {'No Shade':'no-shade','Snow':'snow','None':'nothing','Fee':'fee','Scramble':'scramble', 'Forest':'forest'}\n",
    "# feature_requests = [feature_dict[feature1.value], feature_dict[feature2.value]]\n",
    "\n",
    "# address = street.value + ' '+ city.value + ', '+state.value +' '+ zip_code.value\n",
    "\n",
    "# hike_day = dow.value\n",
    "# dow = dow.value\n",
    "# distance_max = slider1.value[1]\n",
    "# distance_min = slider1.value[0]\n",
    "\n",
    "# drive_lim = slider2.value\n",
    "# class_limit = slider3.value\n",
    "\n",
    "# trail_list = hike_list.value\n",
    "\n",
    "# check_weather = True\n",
    "\n",
    "output = widgets.Output()\n",
    "done = widgets.Button(\n",
    "    description='Done',\n",
    "    disabled=False,\n",
    "    button_style='', # 'success', 'info', 'warning', 'danger' or ''\n",
    "    tooltip='Click me',\n",
    "    icon='check'\n",
    ")\n",
    "output = widgets.Output()\n",
    "display(done, output)\n",
    "\n",
    "def on_button_clicked(b):\n",
    "    with output:\n",
    "\n",
    "        feature_requests = [feature_dict[feature1.value], feature_dict[feature2.value]]\n",
    "        \n",
    "        excluded = excluded_dict[feature_e.value]\n",
    "\n",
    "        address = street.value + ' '+ city.value + ', '+state.value +' '+ zip_code.value\n",
    "\n",
    "        hike_day = weekday.value\n",
    "        dow = hike_day\n",
    "        distance_max = slider1.value[1]\n",
    "        distance_min = slider1.value[0]\n",
    "\n",
    "        drive_lim = slider2.value\n",
    "        class_limit = slider3.value\n",
    "\n",
    "        trail_list = hike_list.value\n",
    "        \n",
    "        if weather_check.value == 'Yes':\n",
    "            check_weather = True\n",
    "        else:\n",
    "            check_weather = False\n",
    "\n",
    "        full_df = allTrailsAny(address, trail_list, hike_day)\n",
    "        # full_df.to_csv('check_err.csv')\n",
    "\n",
    "        full_df_in= full_df[:][:]\n",
    "\n",
    "\n",
    "        filtered_hikes_df = filterHikes(full_df_in[:][:],distance_max,distance_min,drive_lim,feature_requests,excluded, check_weather,dow)\n",
    "        # filtered_hikes_df.to_csv('filtered_hikes_'+str(date.today())+'.csv')\n",
    "\n",
    "        if trail_list == 'Top 14ers' or  trail_list == 'All 14ers':\n",
    "\n",
    "            all14erData = getallCO14erData()\n",
    "\n",
    "            co_14_df = all14erData[:][:]\n",
    "            at_df = filtered_hikes_df[:][:]\n",
    "\n",
    "            merged_14er_data = get14erMatches(at_df,co_14_df)\n",
    "\n",
    "            filtered_14er_df = filter14ers(merged_14er_data,class_limit)\n",
    "\n",
    "            filtered_14er_df.to_csv('filtered_14ers_'+str(date.today())+'.csv')\n",
    "            print('Analysis Complete.')\n",
    "        else:\n",
    "            \n",
    "            filtered_hikes_df.to_csv('filtered_hikes_'+str(date.today())+'.csv')\n",
    "            print('Analysis Complete.')\n",
    "\n",
    "        \n",
    "done.on_click(on_button_clicked)"
   ]
  },
  {
   "cell_type": "code",
   "execution_count": 4,
   "id": "e9f7b7ab-4729-42ac-9156-b49226b209ce",
   "metadata": {},
   "outputs": [
    {
     "data": {
      "text/plain": [
       "'Forest'"
      ]
     },
     "execution_count": 4,
     "metadata": {},
     "output_type": "execute_result"
    }
   ],
   "source": []
  },
  {
   "cell_type": "code",
   "execution_count": 6,
   "id": "3161ca7d-0688-447a-812a-b60d3e9883fc",
   "metadata": {},
   "outputs": [
    {
     "data": {
      "text/plain": [
       "'forest'"
      ]
     },
     "execution_count": 6,
     "metadata": {},
     "output_type": "execute_result"
    }
   ],
   "source": []
  },
  {
   "cell_type": "code",
   "execution_count": null,
   "id": "e856eaa8-8b02-4c1a-9e32-dfd9a2c401ce",
   "metadata": {},
   "outputs": [],
   "source": []
  }
 ],
 "metadata": {
  "kernelspec": {
   "display_name": "Python 3 (ipykernel)",
   "language": "python",
   "name": "python3"
  },
  "language_info": {
   "codemirror_mode": {
    "name": "ipython",
    "version": 3
   },
   "file_extension": ".py",
   "mimetype": "text/x-python",
   "name": "python",
   "nbconvert_exporter": "python",
   "pygments_lexer": "ipython3",
   "version": "3.10.5"
  }
 },
 "nbformat": 4,
 "nbformat_minor": 5
}
