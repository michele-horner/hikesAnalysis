{
 "cells": [
  {
   "cell_type": "code",
   "execution_count": 4,
   "id": "881cc983-a55e-48a9-a041-ab8196167760",
   "metadata": {},
   "outputs": [],
   "source": [
    "def filter14ers(merged_14ers, class_limit):\n",
    "\n",
    "    class_dict = {'Easy Class 3':2.5,'Difficult Class 2':2.5, 'Class 2':2, 'Class 1':1, 'Class 3':3,'Class 4':4}\n",
    "\n",
    "    t = 0\n",
    "    class_num = []\n",
    "    while t < len(merged_14ers.index):\n",
    "        class_num.append(class_dict[merged_14ers['class'][t]])\n",
    "        t+=1\n",
    "\n",
    "    merged_14er_data['class_num'] = class_num\n",
    "\n",
    "    limited_df = merged_14ers[(merged_14ers['class_num'].astype(float)<=class_limit)]\n",
    "    return limited_df"
   ]
  },
  {
   "cell_type": "code",
   "execution_count": null,
   "id": "4b5925da-4471-4e81-b895-049c51eda2fa",
   "metadata": {},
   "outputs": [],
   "source": []
  }
 ],
 "metadata": {
  "kernelspec": {
   "display_name": "Python 3 (ipykernel)",
   "language": "python",
   "name": "python3"
  },
  "language_info": {
   "codemirror_mode": {
    "name": "ipython",
    "version": 3
   },
   "file_extension": ".py",
   "mimetype": "text/x-python",
   "name": "python",
   "nbconvert_exporter": "python",
   "pygments_lexer": "ipython3",
   "version": "3.10.5"
  }
 },
 "nbformat": 4,
 "nbformat_minor": 5
}
