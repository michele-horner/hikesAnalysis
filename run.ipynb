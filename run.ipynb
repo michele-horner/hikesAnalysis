{
 "cells": [
  {
   "cell_type": "code",
   "execution_count": 12,
   "id": "939eba1e-cba9-4ccf-a7f1-07142cf476cd",
   "metadata": {},
   "outputs": [
    {
     "data": {
      "application/vnd.jupyter.widget-view+json": {
       "model_id": "46193dbafcb84baaacf3f8e7546c5223",
       "version_major": 2,
       "version_minor": 0
      },
      "text/plain": [
       "Text(value='333 E Colorado Ave', description='Street Address:', placeholder='Type something', style=Descriptio…"
      ]
     },
     "metadata": {},
     "output_type": "display_data"
    },
    {
     "data": {
      "application/vnd.jupyter.widget-view+json": {
       "model_id": "89dba144f3f344898aa2e07587ef9cc0",
       "version_major": 2,
       "version_minor": 0
      },
      "text/plain": [
       "Text(value='Colorado Springs', description='City:', placeholder='Type something')"
      ]
     },
     "metadata": {},
     "output_type": "display_data"
    },
    {
     "data": {
      "application/vnd.jupyter.widget-view+json": {
       "model_id": "686ac9fba3284fd0980e1ae5b9f2b85f",
       "version_major": 2,
       "version_minor": 0
      },
      "text/plain": [
       "Text(value='CO', description='State:', placeholder='Type something')"
      ]
     },
     "metadata": {},
     "output_type": "display_data"
    },
    {
     "data": {
      "application/vnd.jupyter.widget-view+json": {
       "model_id": "3067ffbf3ec94a3b913655acad4b5f11",
       "version_major": 2,
       "version_minor": 0
      },
      "text/plain": [
       "Text(value='80903', description='Zip Code:', placeholder='Type something')"
      ]
     },
     "metadata": {},
     "output_type": "display_data"
    },
    {
     "data": {
      "application/vnd.jupyter.widget-view+json": {
       "model_id": "df9bbee3dfb94c8cb4acc07cdac7001a",
       "version_major": 2,
       "version_minor": 0
      },
      "text/plain": [
       "FloatRangeSlider(value=(2.0, 15.0), description='Hiking Distance (miles):', layout=Layout(height='20px', width…"
      ]
     },
     "metadata": {},
     "output_type": "display_data"
    },
    {
     "data": {
      "application/vnd.jupyter.widget-view+json": {
       "model_id": "263bae6d2a4e4c208ddce016c3e7b109",
       "version_major": 2,
       "version_minor": 0
      },
      "text/plain": [
       "FloatSlider(value=3.0, description='Driving Distance (hours):', layout=Layout(height='20px', width='400px'), m…"
      ]
     },
     "metadata": {},
     "output_type": "display_data"
    },
    {
     "data": {
      "application/vnd.jupyter.widget-view+json": {
       "model_id": "c83c68f9d03e473cbe097664e83272a0",
       "version_major": 2,
       "version_minor": 0
      },
      "text/plain": [
       "FloatSlider(value=2.0, description='Class Limit (for 14ers only):', layout=Layout(height='20px', width='400px'…"
      ]
     },
     "metadata": {},
     "output_type": "display_data"
    },
    {
     "data": {
      "application/vnd.jupyter.widget-view+json": {
       "model_id": "a38a9640245d4ff9be6f9cd011d21678",
       "version_major": 2,
       "version_minor": 0
      },
      "text/plain": [
       "RadioButtons(description='Feature #1:', index=1, options=('Lake', 'Wildflowers', 'River', 'Views', 'Dogs allow…"
      ]
     },
     "metadata": {},
     "output_type": "display_data"
    },
    {
     "data": {
      "application/vnd.jupyter.widget-view+json": {
       "model_id": "54858c55ee4e4d559143f1bead5e1c3f",
       "version_major": 2,
       "version_minor": 0
      },
      "text/plain": [
       "RadioButtons(description='Feature #2:', options=('Lake', 'Wildflowers', 'River', 'Views', 'Dogs allowed', 'Scr…"
      ]
     },
     "metadata": {},
     "output_type": "display_data"
    },
    {
     "data": {
      "application/vnd.jupyter.widget-view+json": {
       "model_id": "b0a528958851488188f0c62f14a43ae4",
       "version_major": 2,
       "version_minor": 0
      },
      "text/plain": [
       "Dropdown(description='Hike Day:', options=('Tuesday', 'Wednesday', 'Thursday', 'Friday', 'Saturday', 'Sunday')…"
      ]
     },
     "metadata": {},
     "output_type": "display_data"
    },
    {
     "data": {
      "application/vnd.jupyter.widget-view+json": {
       "model_id": "ca19a392214f400bb5f25192d72ead51",
       "version_major": 2,
       "version_minor": 0
      },
      "text/plain": [
       "Dropdown(description='Trail List:', index=1, options=('All Colorado', 'Colorado short list', 'All 14ers', 'Top…"
      ]
     },
     "metadata": {},
     "output_type": "display_data"
    },
    {
     "data": {
      "application/vnd.jupyter.widget-view+json": {
       "model_id": "9a2ffa2fb02744d8b8dd74cb3210cfce",
       "version_major": 2,
       "version_minor": 0
      },
      "text/plain": [
       "RadioButtons(description='Check for Weather:', options=('Yes', 'No'), style=DescriptionStyle(description_width…"
      ]
     },
     "metadata": {},
     "output_type": "display_data"
    },
    {
     "data": {
      "application/vnd.jupyter.widget-view+json": {
       "model_id": "2543a2b1cfe945b3ba391ca48ef3d442",
       "version_major": 2,
       "version_minor": 0
      },
      "text/plain": [
       "Button(description='Done', icon='check', style=ButtonStyle(), tooltip='Click me')"
      ]
     },
     "metadata": {},
     "output_type": "display_data"
    },
    {
     "data": {
      "application/vnd.jupyter.widget-view+json": {
       "model_id": "0257b14e84204715b9f2340cf1dc6ac3",
       "version_major": 2,
       "version_minor": 0
      },
      "text/plain": [
       "Output()"
      ]
     },
     "metadata": {},
     "output_type": "display_data"
    }
   ],
   "source": [
    "# %run setup.ipynb        # run to install dependendencies\n",
    "%run hikeGUI.ipynb"
   ]
  },
  {
   "cell_type": "code",
   "execution_count": null,
   "id": "ad30fb05-1a50-4671-8264-98453dc8381f",
   "metadata": {},
   "outputs": [],
   "source": []
  },
  {
   "cell_type": "code",
   "execution_count": null,
   "id": "b4863e19-8e3c-4f32-b75e-131d7916fa0d",
   "metadata": {},
   "outputs": [],
   "source": []
  },
  {
   "cell_type": "code",
   "execution_count": null,
   "id": "54ca53f5-008b-4142-b4fd-0126e79a878a",
   "metadata": {},
   "outputs": [],
   "source": []
  }
 ],
 "metadata": {
  "kernelspec": {
   "display_name": "Python 3 (ipykernel)",
   "language": "python",
   "name": "python3"
  },
  "language_info": {
   "codemirror_mode": {
    "name": "ipython",
    "version": 3
   },
   "file_extension": ".py",
   "mimetype": "text/x-python",
   "name": "python",
   "nbconvert_exporter": "python",
   "pygments_lexer": "ipython3",
   "version": "3.10.5"
  }
 },
 "nbformat": 4,
 "nbformat_minor": 5
}
