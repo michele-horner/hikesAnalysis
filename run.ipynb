{
 "cells": [
  {
   "cell_type": "code",
   "execution_count": 6,
   "id": "939eba1e-cba9-4ccf-a7f1-07142cf476cd",
   "metadata": {},
   "outputs": [
    {
     "data": {
      "application/vnd.jupyter.widget-view+json": {
       "model_id": "366194d2c06346b992796cb16ccc31f5",
       "version_major": 2,
       "version_minor": 0
      },
      "text/plain": [
       "Text(value='333 E Colorado Ave', description='Street Address:', placeholder='Type something', style=Descriptio…"
      ]
     },
     "metadata": {},
     "output_type": "display_data"
    },
    {
     "data": {
      "application/vnd.jupyter.widget-view+json": {
       "model_id": "c9aa079515934c429f9f6fe1c9ed2f98",
       "version_major": 2,
       "version_minor": 0
      },
      "text/plain": [
       "Text(value='Colorado Springs', description='City:', placeholder='Type something')"
      ]
     },
     "metadata": {},
     "output_type": "display_data"
    },
    {
     "data": {
      "application/vnd.jupyter.widget-view+json": {
       "model_id": "83e768872b894bf88d99a8417283beee",
       "version_major": 2,
       "version_minor": 0
      },
      "text/plain": [
       "Text(value='CO', description='State:', placeholder='Type something')"
      ]
     },
     "metadata": {},
     "output_type": "display_data"
    },
    {
     "data": {
      "application/vnd.jupyter.widget-view+json": {
       "model_id": "74615eed421049e0b17e03f16d6412ac",
       "version_major": 2,
       "version_minor": 0
      },
      "text/plain": [
       "Text(value='80903', description='Zip Code:', placeholder='Type something')"
      ]
     },
     "metadata": {},
     "output_type": "display_data"
    },
    {
     "data": {
      "application/vnd.jupyter.widget-view+json": {
       "model_id": "3e727676cdf24de3ae6f8d67f54ce77a",
       "version_major": 2,
       "version_minor": 0
      },
      "text/plain": [
       "FloatRangeSlider(value=(7.5, 22.5), description='Hiking Distance (miles):', layout=Layout(height='20px', width…"
      ]
     },
     "metadata": {},
     "output_type": "display_data"
    },
    {
     "data": {
      "application/vnd.jupyter.widget-view+json": {
       "model_id": "c61926f84a6147bb98ddc556af7be823",
       "version_major": 2,
       "version_minor": 0
      },
      "text/plain": [
       "FloatSlider(value=3.0, description='Driving Distance (hours):', layout=Layout(height='20px', width='400px'), m…"
      ]
     },
     "metadata": {},
     "output_type": "display_data"
    },
    {
     "data": {
      "application/vnd.jupyter.widget-view+json": {
       "model_id": "976635fbe6d14ca9b88dff26458246be",
       "version_major": 2,
       "version_minor": 0
      },
      "text/plain": [
       "FloatSlider(value=2.0, description='Class Limit (for 14ers only):', layout=Layout(height='20px', width='400px'…"
      ]
     },
     "metadata": {},
     "output_type": "display_data"
    },
    {
     "data": {
      "application/vnd.jupyter.widget-view+json": {
       "model_id": "4ff874c8c6664469801df1c8b603d952",
       "version_major": 2,
       "version_minor": 0
      },
      "text/plain": [
       "RadioButtons(description='Feature #1:', index=1, options=('Lake', 'Wildflowers', 'River', 'Views', 'Dogs allow…"
      ]
     },
     "metadata": {},
     "output_type": "display_data"
    },
    {
     "data": {
      "application/vnd.jupyter.widget-view+json": {
       "model_id": "7366043ceb2d4d2d8e53073586568042",
       "version_major": 2,
       "version_minor": 0
      },
      "text/plain": [
       "RadioButtons(description='Feature #2:', options=('Lake', 'Wildflowers', 'River', 'Views', 'Dogs allowed', 'Scr…"
      ]
     },
     "metadata": {},
     "output_type": "display_data"
    },
    {
     "data": {
      "application/vnd.jupyter.widget-view+json": {
       "model_id": "d68c45da448f435898be4f8271651e8d",
       "version_major": 2,
       "version_minor": 0
      },
      "text/plain": [
       "Dropdown(description='Hiking Day:', index=6, options=('Sunday', 'Monday', 'Tuesday', 'Wednesday', 'Thursday', …"
      ]
     },
     "metadata": {},
     "output_type": "display_data"
    },
    {
     "data": {
      "application/vnd.jupyter.widget-view+json": {
       "model_id": "8f885fc8a3cb40c2962447e17427df6f",
       "version_major": 2,
       "version_minor": 0
      },
      "text/plain": [
       "Dropdown(description='Trail List:', options=('All Colorado', 'Colorado short list', 'All 14ers', 'Top 14ers'),…"
      ]
     },
     "metadata": {},
     "output_type": "display_data"
    },
    {
     "data": {
      "application/vnd.jupyter.widget-view+json": {
       "model_id": "6d8300d92f2a4717a10c2869f5d6218d",
       "version_major": 2,
       "version_minor": 0
      },
      "text/plain": [
       "Button(description='Done', icon='check', style=ButtonStyle(), tooltip='Click me')"
      ]
     },
     "metadata": {},
     "output_type": "display_data"
    },
    {
     "data": {
      "application/vnd.jupyter.widget-view+json": {
       "model_id": "ce20fff51b6446259f95955f9db08191",
       "version_major": 2,
       "version_minor": 0
      },
      "text/plain": [
       "Output()"
      ]
     },
     "metadata": {},
     "output_type": "display_data"
    }
   ],
   "source": [
    "# %run setup.ipynb        # run to install dependendencies\n",
    "%run hikeWidgets.ipynb"
   ]
  },
  {
   "cell_type": "code",
   "execution_count": null,
   "id": "ad30fb05-1a50-4671-8264-98453dc8381f",
   "metadata": {},
   "outputs": [],
   "source": []
  }
 ],
 "metadata": {
  "kernelspec": {
   "display_name": "Python 3 (ipykernel)",
   "language": "python",
   "name": "python3"
  },
  "language_info": {
   "codemirror_mode": {
    "name": "ipython",
    "version": 3
   },
   "file_extension": ".py",
   "mimetype": "text/x-python",
   "name": "python",
   "nbconvert_exporter": "python",
   "pygments_lexer": "ipython3",
   "version": "3.10.5"
  }
 },
 "nbformat": 4,
 "nbformat_minor": 5
}
